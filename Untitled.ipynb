{
 "cells": [
  {
   "cell_type": "code",
   "execution_count": 1,
   "id": "a56c6ab6",
   "metadata": {},
   "outputs": [
    {
     "name": "stdout",
     "output_type": "stream",
     "text": [
      "C:\\Users\\iwami.DESKTOP-6QUM9P3\\venv\\Scripts\\python.exe\n",
      "3.11.9 64bit\n"
     ]
    }
   ],
   "source": [
    "import sys, platform, pathlib\n",
    "print(sys.executable)\n",
    "print(platform.python_version(), platform.architecture()[0])\n"
   ]
  },
  {
   "cell_type": "code",
   "execution_count": 2,
   "id": "e28e6207",
   "metadata": {},
   "outputs": [
    {
     "name": "stdout",
     "output_type": "stream",
     "text": [
      "C:\\Users\\iwami.DESKTOP-6QUM9P3\\universal-location-parser\n"
     ]
    },
    {
     "name": "stderr",
     "output_type": "stream",
     "text": [
      "Traceback (most recent call last):\n",
      "  File \"C:\\Users\\iwami.DESKTOP-6QUM9P3\\universal-location-parser\\main_unified.py\", line 15, in <module>\n",
      "    from modules.data_converter import convert_records_to_dataframe, sort_dataframe_by_time, combine_dataframes\n",
      "  File \"C:\\Users\\iwami.DESKTOP-6QUM9P3\\universal-location-parser\\modules\\data_converter.py\", line 6, in <module>\n",
      "    import pandas as pd\n",
      "  File \"C:\\Users\\iwami.DESKTOP-6QUM9P3\\anaconda3\\lib\\site-packages\\pandas\\__init__.py\", line 23, in <module>\n",
      "    from pandas.compat import (\n",
      "  File \"C:\\Users\\iwami.DESKTOP-6QUM9P3\\anaconda3\\lib\\site-packages\\pandas\\compat\\__init__.py\", line 26, in <module>\n",
      "    from pandas.compat.numpy import is_numpy_dev\n",
      "  File \"C:\\Users\\iwami.DESKTOP-6QUM9P3\\anaconda3\\lib\\site-packages\\pandas\\compat\\numpy\\__init__.py\", line 9, in <module>\n",
      "    _np_version = np.__version__\n",
      "AttributeError: module 'numpy' has no attribute '__version__'\n"
     ]
    }
   ],
   "source": [
    "%cd C:\\Users\\iwami.DESKTOP-6QUM9P3\\universal-location-parser\n",
    "!python main_unified.py\n"
   ]
  },
  {
   "cell_type": "code",
   "execution_count": 3,
   "id": "c369bbc4",
   "metadata": {},
   "outputs": [
    {
     "name": "stdout",
     "output_type": "stream",
     "text": [
      "C:\\Users\\iwami.DESKTOP-6QUM9P3\\universal-location-parser\n",
      "Working dir: C:\\Users\\iwami.DESKTOP-6QUM9P3\\universal-location-parser\n",
      "─── STDOUT ───\n",
      "\n",
      "─── STDERR ───\n",
      "Traceback (most recent call last):\n",
      "  File \"C:\\Users\\iwami.DESKTOP-6QUM9P3\\universal-location-parser\\main_unified.py\", line 194, in <module>\n",
      "    main()\n",
      "  File \"C:\\Users\\iwami.DESKTOP-6QUM9P3\\universal-location-parser\\main_unified.py\", line 99, in main\n",
      "    print(\"\\U0001f310 Google Timeline & GPX Parser\")\n",
      "UnicodeEncodeError: 'cp932' codec can't encode character '\\U0001f310' in position 0: illegal multibyte sequence\n",
      "\n",
      "During handling of the above exception, another exception occurred:\n",
      "\n",
      "Traceback (most recent call last):\n",
      "  File \"C:\\Users\\iwami.DESKTOP-6QUM9P3\\universal-location-parser\\main_unified.py\", line 198, in <module>\n",
      "    print(f\"\\n\\u274c 予期しないエラーが発生しました: {e}\")\n",
      "UnicodeEncodeError: 'cp932' codec can't encode character '\\u274c' in position 2: illegal multibyte sequence\n",
      "\n"
     ]
    },
    {
     "ename": "CalledProcessError",
     "evalue": "Command '['C:\\\\Users\\\\iwami.DESKTOP-6QUM9P3\\\\venv\\\\Scripts\\\\python.exe', 'main_unified.py']' returned non-zero exit status 1.",
     "output_type": "error",
     "traceback": [
      "\u001b[31m---------------------------------------------------------------------------\u001b[39m",
      "\u001b[31mCalledProcessError\u001b[39m                        Traceback (most recent call last)",
      "\u001b[36mCell\u001b[39m\u001b[36m \u001b[39m\u001b[32mIn[3]\u001b[39m\u001b[32m, line 27\u001b[39m\n\u001b[32m     25\u001b[39m \u001b[38;5;66;03m# エラー時は CalledProcessError を発生させて notebook 上で赤くする\u001b[39;00m\n\u001b[32m     26\u001b[39m \u001b[38;5;28;01mif\u001b[39;00m proc.returncode != \u001b[32m0\u001b[39m:\n\u001b[32m---> \u001b[39m\u001b[32m27\u001b[39m     \u001b[38;5;28;01mraise\u001b[39;00m subprocess.CalledProcessError(proc.returncode, proc.args)\n",
      "\u001b[31mCalledProcessError\u001b[39m: Command '['C:\\\\Users\\\\iwami.DESKTOP-6QUM9P3\\\\venv\\\\Scripts\\\\python.exe', 'main_unified.py']' returned non-zero exit status 1."
     ]
    }
   ],
   "source": [
    "# ── ❶ まずプロジェクト直下に移動（必要ならパスを調整） ──\n",
    "%cd C:\\Users\\iwami.DESKTOP-6QUM9P3\\universal-location-parser\n",
    "\n",
    "# ── ❷ main_unified.py を実行して、標準出力・標準エラーを両方表示 ──\n",
    "import subprocess, sys, textwrap, pathlib\n",
    "\n",
    "proj_root = pathlib.Path().resolve()        # 今の位置（念のため取得）\n",
    "print(f\"Working dir: {proj_root}\")\n",
    "\n",
    "proc = subprocess.Popen(\n",
    "    [sys.executable, \"main_unified.py\"],    # venv の python を明示\n",
    "    cwd=proj_root,\n",
    "    stdout=subprocess.PIPE,\n",
    "    stderr=subprocess.PIPE,\n",
    "    text=True\n",
    ")\n",
    "\n",
    "stdout, stderr = proc.communicate()         # 完了まで待機\n",
    "print(\"─── STDOUT ───\")\n",
    "print(textwrap.dedent(stdout))              # 普通のログが出る\n",
    "if stderr:\n",
    "    print(\"─── STDERR ───\")\n",
    "    print(stderr)                           # エラーがあれば表示\n",
    "\n",
    "# エラー時は CalledProcessError を発生させて notebook 上で赤くする\n",
    "if proc.returncode != 0:\n",
    "    raise subprocess.CalledProcessError(proc.returncode, proc.args)\n"
   ]
  },
  {
   "cell_type": "code",
   "execution_count": null,
   "id": "f5598622",
   "metadata": {},
   "outputs": [],
   "source": []
  }
 ],
 "metadata": {
  "kernelspec": {
   "display_name": "Python (ulp-venv)",
   "language": "python",
   "name": "ulp-venv"
  },
  "language_info": {
   "codemirror_mode": {
    "name": "ipython",
    "version": 3
   },
   "file_extension": ".py",
   "mimetype": "text/x-python",
   "name": "python",
   "nbconvert_exporter": "python",
   "pygments_lexer": "ipython3",
   "version": "3.11.9"
  }
 },
 "nbformat": 4,
 "nbformat_minor": 5
}
